{
  "nbformat": 4,
  "nbformat_minor": 0,
  "metadata": {
    "colab": {
      "name": "BCG.ipynb",
      "provenance": [],
      "authorship_tag": "ABX9TyP2jWMB5dyAqB5cZe/vWeTh",
      "include_colab_link": true
    },
    "kernelspec": {
      "name": "python3",
      "display_name": "Python 3"
    },
    "language_info": {
      "name": "python"
    }
  },
  "cells": [
    {
      "cell_type": "markdown",
      "metadata": {
        "id": "view-in-github",
        "colab_type": "text"
      },
      "source": [
        "<a href=\"https://colab.research.google.com/github/abhaykagalkar/Testbcg/blob/main/BCG.ipynb\" target=\"_parent\"><img src=\"https://colab.research.google.com/assets/colab-badge.svg\" alt=\"Open In Colab\"/></a>"
      ]
    },
    {
      "cell_type": "markdown",
      "metadata": {
        "id": "w4iPTkrU1wWp"
      },
      "source": [
        "# Mount G-Drive to Colab"
      ]
    },
    {
      "cell_type": "code",
      "metadata": {
        "colab": {
          "base_uri": "https://localhost:8080/"
        },
        "id": "gaD9vjAJ089D",
        "outputId": "09a52790-42d0-4b80-bfeb-9fa5e07000d6"
      },
      "source": [
        "from google.colab import drive\n",
        "drive.mount('/content/drive')"
      ],
      "execution_count": 1,
      "outputs": [
        {
          "output_type": "stream",
          "name": "stdout",
          "text": [
            "Mounted at /content/drive\n"
          ]
        }
      ]
    },
    {
      "cell_type": "code",
      "metadata": {
        "id": "CW8icPOF1SHQ"
      },
      "source": [
        "\n",
        "# innstall java\n",
        "!apt-get install openjdk-8-jdk-headless -qq > /dev/null\n",
        "\n",
        "# install spark (change the version number if needed)\n",
        "!wget -q https://archive.apache.org/dist/spark/spark-3.0.0/spark-3.0.0-bin-hadoop3.2.tgz\n",
        "\n",
        "# unzip the spark file to the current folder\n",
        "!tar xf spark-3.0.0-bin-hadoop3.2.tgz"
      ],
      "execution_count": 2,
      "outputs": []
    },
    {
      "cell_type": "code",
      "metadata": {
        "id": "71_g-h1-1UrR"
      },
      "source": [
        "!pip install -q findspark\n"
      ],
      "execution_count": 3,
      "outputs": []
    },
    {
      "cell_type": "code",
      "metadata": {
        "colab": {
          "base_uri": "https://localhost:8080/"
        },
        "id": "Su9fGcHX1X-T",
        "outputId": "ea37d5dc-4b09-46e6-e981-8c21537e77db"
      },
      "source": [
        "!pip install pyspark\n"
      ],
      "execution_count": 4,
      "outputs": [
        {
          "output_type": "stream",
          "name": "stdout",
          "text": [
            "Collecting pyspark\n",
            "  Downloading pyspark-3.1.2.tar.gz (212.4 MB)\n",
            "\u001b[K     |████████████████████████████████| 212.4 MB 63 kB/s \n",
            "\u001b[?25hCollecting py4j==0.10.9\n",
            "  Downloading py4j-0.10.9-py2.py3-none-any.whl (198 kB)\n",
            "\u001b[K     |████████████████████████████████| 198 kB 51.3 MB/s \n",
            "\u001b[?25hBuilding wheels for collected packages: pyspark\n",
            "  Building wheel for pyspark (setup.py) ... \u001b[?25l\u001b[?25hdone\n",
            "  Created wheel for pyspark: filename=pyspark-3.1.2-py2.py3-none-any.whl size=212880768 sha256=8b16f28a9cedb88fa984be278345b9f982a62f2b46c3f8c9d0e3bac04ad4fd23\n",
            "  Stored in directory: /root/.cache/pip/wheels/a5/0a/c1/9561f6fecb759579a7d863dcd846daaa95f598744e71b02c77\n",
            "Successfully built pyspark\n",
            "Installing collected packages: py4j, pyspark\n",
            "Successfully installed py4j-0.10.9 pyspark-3.1.2\n"
          ]
        }
      ]
    },
    {
      "cell_type": "markdown",
      "metadata": {
        "id": "t90hLHHm1nXX"
      },
      "source": [
        "**SET JAVA and Spark Env PATHS**"
      ]
    },
    {
      "cell_type": "code",
      "metadata": {
        "id": "VhR3aNLA1mY6"
      },
      "source": [
        "import os\n",
        "os.environ[\"JAVA_HOME\"] = \"/usr/lib/jvm/java-8-openjdk-amd64\"\n",
        "os.environ[\"SPARK_HOME\"] = \"/content/spark-3.0.0-bin-hadoop3.2\"\n"
      ],
      "execution_count": 5,
      "outputs": []
    },
    {
      "cell_type": "code",
      "metadata": {
        "id": "qBxyRYmP15AW"
      },
      "source": [
        "\n",
        "import findspark\n",
        "findspark.init()"
      ],
      "execution_count": 6,
      "outputs": []
    },
    {
      "cell_type": "code",
      "metadata": {
        "id": "k-xbeWTW19rZ"
      },
      "source": [
        "\n",
        "from pyspark.sql import *\n",
        "from pyspark.sql import SparkSession\n",
        "from pyspark.sql.types import *\n",
        "from pyspark.sql.functions import *\n",
        "from datetime import *"
      ],
      "execution_count": 7,
      "outputs": []
    },
    {
      "cell_type": "code",
      "metadata": {
        "colab": {
          "base_uri": "https://localhost:8080/",
          "height": 216
        },
        "id": "L302ZdNy2B4J",
        "outputId": "f5d4ffe7-aae4-4a9f-e742-1dab7afe7a7f"
      },
      "source": [
        "spark = SparkSession.builder\\\n",
        "        .master(\"local\")\\\n",
        "        .appName(\"BCG\")\\\n",
        "        .config('spark.ui.port', '4050')\\\n",
        "        .getOrCreate()\n",
        "spark"
      ],
      "execution_count": 8,
      "outputs": [
        {
          "output_type": "execute_result",
          "data": {
            "text/html": [
              "\n",
              "            <div>\n",
              "                <p><b>SparkSession - in-memory</b></p>\n",
              "                \n",
              "        <div>\n",
              "            <p><b>SparkContext</b></p>\n",
              "\n",
              "            <p><a href=\"http://e10dcdd60cfd:4050\">Spark UI</a></p>\n",
              "\n",
              "            <dl>\n",
              "              <dt>Version</dt>\n",
              "                <dd><code>v3.0.0</code></dd>\n",
              "              <dt>Master</dt>\n",
              "                <dd><code>local</code></dd>\n",
              "              <dt>AppName</dt>\n",
              "                <dd><code>BCG</code></dd>\n",
              "            </dl>\n",
              "        </div>\n",
              "        \n",
              "            </div>\n",
              "        "
            ],
            "text/plain": [
              "<pyspark.sql.session.SparkSession at 0x7ff6c9596b90>"
            ]
          },
          "metadata": {},
          "execution_count": 8
        }
      ]
    },
    {
      "cell_type": "markdown",
      "metadata": {
        "id": "MZ1xOhxf-EbT"
      },
      "source": [
        "# Read all the CSVs required for Analysis"
      ]
    },
    {
      "cell_type": "code",
      "metadata": {
        "id": "uDH846dR223I"
      },
      "source": [
        "Charges=spark.read.options(header=True, inferSchema=True).csv(\"drive/MyDrive/DATA/BCG/Charges_use.csv\")\n",
        "Damages=spark.read.options(header=True, inferSchema=True).csv(\"drive/MyDrive/DATA/BCG/Damages_use.csv\")\n",
        "Endorse=spark.read.options(header=True, inferSchema=True).csv(\"drive/MyDrive/DATA/BCG/Endorse_use.csv\")\n",
        "PrimaryPerson=spark.read.options(header=True, inferSchema=True).csv(\"drive/MyDrive/DATA/BCG/Primary_Person_use.csv\")\n",
        "Restrict=spark.read.options(header=True, inferSchema=True).csv(\"drive/MyDrive/DATA/BCG/Restrict_use.csv\")\n",
        "Units=spark.read.options(header=True, inferSchema=True).csv(\"drive/MyDrive/DATA/BCG/Units_use.csv\")"
      ],
      "execution_count": 11,
      "outputs": []
    },
    {
      "cell_type": "markdown",
      "metadata": {
        "id": "1oRkWIor-Ozu"
      },
      "source": [
        "# Clean the Staged Files "
      ]
    },
    {
      "cell_type": "code",
      "metadata": {
        "id": "Ai1gvotP5LTm"
      },
      "source": [
        "\n",
        "Charges=Charges.dropDuplicates()\n",
        "Damages=Damages.dropDuplicates()\n",
        "Endorse=Endorse.dropDuplicates()\n",
        "PrimaryPerson=PrimaryPerson.dropDuplicates()\n",
        "Restrict=Restrict.dropDuplicates()\n",
        "Units=Units.dropDuplicates()"
      ],
      "execution_count": 12,
      "outputs": []
    },
    {
      "cell_type": "markdown",
      "metadata": {
        "id": "ELdHh1D89_bc"
      },
      "source": [
        "# Analysis 1"
      ]
    },
    {
      "cell_type": "code",
      "metadata": {
        "colab": {
          "base_uri": "https://localhost:8080/"
        },
        "id": "8fInTqCc5WN6",
        "outputId": "f3425b1f-3a32-4d9e-8654-4486e1887900"
      },
      "source": [
        "PrimaryPerson_1=PrimaryPerson.filter((col(\"death_cnt\")>=1) & (lower(\"PRSN_GNDR_ID\")=='male'))\n",
        "Analysis_1=PrimaryPerson_1.select(\"Crash_ID\").distinct()\n",
        "Analysis_1.count()"
      ],
      "execution_count": 13,
      "outputs": [
        {
          "output_type": "execute_result",
          "data": {
            "text/plain": [
              "180"
            ]
          },
          "metadata": {},
          "execution_count": 13
        }
      ]
    },
    {
      "cell_type": "markdown",
      "metadata": {
        "id": "keHrOGfX-Vmx"
      },
      "source": [
        "# Analysis 2"
      ]
    },
    {
      "cell_type": "code",
      "metadata": {
        "colab": {
          "base_uri": "https://localhost:8080/"
        },
        "id": "_UFsSiyt-ZbU",
        "outputId": "e831c09f-3f52-4ac3-e60a-de74bd59a972"
      },
      "source": [
        "Charges_2 = Charges.select(\"CRASH_ID\",\"UNIT_NBR\").distinct()\n",
        "Analysis_2 = Units.join(Charges_2,on=[\"CRASH_ID\",\"UNIT_NBR\"],how=\"inner\").filter(lower(col(\"VEH_BODY_STYL_ID\")).isin(['motorcycle','police motorcycle']))\n",
        "Analysis_2.count()"
      ],
      "execution_count": 15,
      "outputs": [
        {
          "output_type": "execute_result",
          "data": {
            "text/plain": [
              "401"
            ]
          },
          "metadata": {},
          "execution_count": 15
        }
      ]
    },
    {
      "cell_type": "markdown",
      "metadata": {
        "id": "6gPoxyQ7DCdE"
      },
      "source": [
        "# Analysis 3"
      ]
    },
    {
      "cell_type": "code",
      "metadata": {
        "colab": {
          "base_uri": "https://localhost:8080/"
        },
        "id": "MOTVyJk6DCGs",
        "outputId": "93d65b3c-377c-4594-b39e-67dac090b257"
      },
      "source": [
        "PrimaryPerson.filter(lower(col(\"PRSN_GNDR_ID\")) == \"female\")\\\n",
        "  .groupBy(\"DRVR_LIC_STATE_ID\")\\\n",
        "  .agg(count(lit(1)).alias(\"Count\"))\\\n",
        "  .orderBy(col(\"Count\").desc()).limit(1)\\\n",
        "  .select(\"DRVR_LIC_STATE_ID\").show()\n"
      ],
      "execution_count": 16,
      "outputs": [
        {
          "output_type": "stream",
          "name": "stdout",
          "text": [
            "+-----------------+\n",
            "|DRVR_LIC_STATE_ID|\n",
            "+-----------------+\n",
            "|            Texas|\n",
            "+-----------------+\n",
            "\n"
          ]
        }
      ]
    },
    {
      "cell_type": "markdown",
      "metadata": {
        "id": "lLoY1F2PGt83"
      },
      "source": [
        "# Analysis 4"
      ]
    },
    {
      "cell_type": "code",
      "metadata": {
        "colab": {
          "base_uri": "https://localhost:8080/"
        },
        "id": "0oZvEneBGtWe",
        "outputId": "58af937a-e4b8-4400-bc6e-782eef64bef0"
      },
      "source": [
        "Units4=Units.dropDuplicates([\"CRASH_ID\",\"UNIT_NBR\"])\n",
        "Units4=Units4.withColumn(\"Injury_Death\",col(\"TOT_INJRY_CNT\")+col(\"DEATH_CNT\")).groupby(\"VEH_MAKE_ID\").sum(\"Injury_Death\")\n",
        "Units4=Units4.filter(~col(\"VEH_MAKE_ID\").isin('NA'))\n",
        "Analysis_4=Units4.withColumn(\"Filter\",row_number().over(Window.orderBy(col(\"sum(Injury_Death)\").desc())))\n",
        "Analysis_4=Analysis_4.filter((col(\"Filter\")>=5) & (col(\"Filter\")<=15)).orderBy(\"Filter\")\n",
        "Analysis_4.select(\"VEH_MAKE_ID\").show()"
      ],
      "execution_count": 17,
      "outputs": [
        {
          "output_type": "stream",
          "name": "stdout",
          "text": [
            "+-----------+\n",
            "|VEH_MAKE_ID|\n",
            "+-----------+\n",
            "|     NISSAN|\n",
            "|      HONDA|\n",
            "|        GMC|\n",
            "|    HYUNDAI|\n",
            "|        KIA|\n",
            "|       JEEP|\n",
            "|   CHRYSLER|\n",
            "|      MAZDA|\n",
            "| VOLKSWAGEN|\n",
            "|    PONTIAC|\n",
            "|      LEXUS|\n",
            "+-----------+\n",
            "\n"
          ]
        }
      ]
    },
    {
      "cell_type": "markdown",
      "metadata": {
        "id": "Zkqxe1Gz8QEP"
      },
      "source": [
        "# Analysis 5"
      ]
    },
    {
      "cell_type": "code",
      "metadata": {
        "colab": {
          "base_uri": "https://localhost:8080/"
        },
        "id": "TclQ3-RT8TMm",
        "outputId": "51efa7e7-272d-47fb-ca55-7edad5f1e963"
      },
      "source": [
        "Units5 = Units.dropDuplicates([\"CRASH_ID\", \"UNIT_NBR\"])\n",
        "Analysis_5 = (\n",
        "    Units5.join(PrimaryPerson, on=[\"CRASH_ID\", \"UNIT_NBR\"], how=\"inner\")\n",
        "    .groupBy(\"VEH_BODY_STYL_ID\", \"PRSN_ETHNICITY_ID\")\n",
        "    .agg(count(lit(1)).alias(\"Count\"))\n",
        "    .withColumn(\n",
        "        \"Filter\",\n",
        "        row_number().over(\n",
        "            Window.partitionBy(\"VEH_BODY_STYL_ID\").orderBy(col(\"Count\").desc())\n",
        "        ),\n",
        "    )\n",
        "    .filter(col(\"Filter\") == 1)\n",
        ")\n",
        "Analysis_5.select(\"VEH_BODY_STYL_ID\", \"PRSN_ETHNICITY_ID\").show()\n"
      ],
      "execution_count": 20,
      "outputs": [
        {
          "output_type": "stream",
          "name": "stdout",
          "text": [
            "+--------------------+-----------------+\n",
            "|    VEH_BODY_STYL_ID|PRSN_ETHNICITY_ID|\n",
            "+--------------------+-----------------+\n",
            "|                 BUS|            BLACK|\n",
            "|                  NA|            WHITE|\n",
            "|                 VAN|            WHITE|\n",
            "|              PICKUP|            WHITE|\n",
            "|SPORT UTILITY VEH...|            WHITE|\n",
            "|PASSENGER CAR, 4-...|            WHITE|\n",
            "|          FIRE TRUCK|            WHITE|\n",
            "|               TRUCK|            WHITE|\n",
            "|             UNKNOWN|          UNKNOWN|\n",
            "|           AMBULANCE|            WHITE|\n",
            "|    POLICE CAR/TRUCK|            WHITE|\n",
            "|          MOTORCYCLE|            WHITE|\n",
            "|   YELLOW SCHOOL BUS|            BLACK|\n",
            "|   POLICE MOTORCYCLE|            WHITE|\n",
            "|PASSENGER CAR, 2-...|            WHITE|\n",
            "|       TRUCK TRACTOR|            WHITE|\n",
            "|      FARM EQUIPMENT|            WHITE|\n",
            "|NEV-NEIGHBORHOOD ...|            WHITE|\n",
            "|OTHER  (EXPLAIN I...|            WHITE|\n",
            "|        NOT REPORTED|            WHITE|\n",
            "+--------------------+-----------------+\n",
            "\n"
          ]
        }
      ]
    },
    {
      "cell_type": "markdown",
      "metadata": {
        "id": "eyl1fnJ89j0m"
      },
      "source": [
        "# Analysis 6"
      ]
    },
    {
      "cell_type": "code",
      "metadata": {
        "colab": {
          "base_uri": "https://localhost:8080/"
        },
        "id": "xjMR5Xye9p60",
        "outputId": "6f2bf329-8854-4566-f330-23c9a2e2cc88"
      },
      "source": [
        "Units6 = Units.dropDuplicates([\"CRASH_ID\", \"UNIT_NBR\"])\n",
        "Units6 = Units6.filter(lower(col(\"VEH_BODY_STYL_ID\")).like(\"%car%\"))\n",
        "Units6 = Units6.filter(\n",
        "    (lower(col(\"CONTRIB_FACTR_1_ID\")).like(\"%alcohol%\"))\n",
        "    | (lower(col(\"CONTRIB_FACTR_2_ID\")).like(\"%alcohol%\"))\n",
        "    | (lower(col(\"CONTRIB_FACTR_P1_ID\")).like(\"%alcohol%\"))\n",
        ")\n",
        "PrimaryPerson6 = PrimaryPerson.filter(col(\"DRVR_ZIP\").isNotNull())\n",
        "Analysis_6 = (\n",
        "    Units6.join(PrimaryPerson6, on=[\"CRASH_ID\", \"UNIT_NBR\"], how=\"inner\")\n",
        "    .groupBy(\"DRVR_ZIP\")\n",
        "    .agg(count(lit(1)).alias(\"Count\"))\n",
        "    .orderBy(col(\"Count\").desc())\n",
        ")\n",
        "Analysis_6.select(\"DRVR_ZIP\").show(5)\n"
      ],
      "execution_count": 22,
      "outputs": [
        {
          "output_type": "stream",
          "name": "stdout",
          "text": [
            "+--------+\n",
            "|DRVR_ZIP|\n",
            "+--------+\n",
            "|   75052|\n",
            "|   76010|\n",
            "|   75067|\n",
            "|   78521|\n",
            "|   78130|\n",
            "+--------+\n",
            "only showing top 5 rows\n",
            "\n"
          ]
        }
      ]
    },
    {
      "cell_type": "markdown",
      "metadata": {
        "id": "gZtPXn4S_XiN"
      },
      "source": [
        "# Analysis 7\n"
      ]
    },
    {
      "cell_type": "code",
      "metadata": {
        "colab": {
          "base_uri": "https://localhost:8080/"
        },
        "id": "mfCKV4KT_avF",
        "outputId": "3240dbe2-da46-4d84-b733-450be7deef76"
      },
      "source": [
        "insuranceTypeArr = [\n",
        "    \"PROOF OF LIABILITY INSURANCE\",\n",
        "    \"INSURANCE BINDER\",\n",
        "    \"CERTIFICATE OF SELF-INSURANCE\",\n",
        "]\n",
        "vehicleDamageScalesArr = [\"DAMAGED 5\", \"DAMAGED 6\", \"DAMAGED 7 HIGHEST\"]\n",
        "Units7 = Units.dropDuplicates([\"CRASH_ID\", \"UNIT_NBR\"])\n",
        "Units7 = Units7.filter(lower(col(\"VEH_BODY_STYL_ID\")).like(\"%car%\"))\n",
        "Units7 = Units7.filter(col(\"FIN_RESP_TYPE_ID\").isin(*insuranceTypeArr))\n",
        "\n",
        "Units7 = Units7.filter(\n",
        "    (upper(col(\"VEH_DMAG_SCL_1_ID\")).isin(*vehicleDamageScalesArr))\n",
        "    | (upper(col(\"VEH_DMAG_SCL_2_ID\")).isin(*vehicleDamageScalesArr))\n",
        ")\n",
        "\n",
        "Analysis_7 = Units7.join(Damages, on=[\"CRASH_ID\"], how=\"left_anti\")\n",
        "Analysis_7 = Analysis_7.select(\"CRASH_ID\").distinct()\n",
        "Analysis_7.count()\n"
      ],
      "execution_count": 27,
      "outputs": [
        {
          "output_type": "execute_result",
          "data": {
            "text/plain": [
              "3862"
            ]
          },
          "metadata": {},
          "execution_count": 27
        }
      ]
    },
    {
      "cell_type": "markdown",
      "metadata": {
        "id": "O2REPsuLAqWb"
      },
      "source": [
        "# Analysis 8"
      ]
    },
    {
      "cell_type": "code",
      "metadata": {
        "colab": {
          "base_uri": "https://localhost:8080/"
        },
        "id": "VRUGG69kRlb6",
        "outputId": "bb0ce647-e942-404a-fc32-24b650739f31"
      },
      "source": [
        "top25cities=['TX','MX','LA','NM','CA','FL','OK','AR','AZ','GA','IL','CO','MS','MO','TN','NC','KS','AL','OH','MI','NY','WA','VA','NV']\n",
        "## licenced Drivers\n",
        "PrimaryPerson8 = PrimaryPerson.filter(\n",
        "    ~col(\"DRVR_LIC_CLS_ID\").isin(\"NA\", \"UNKNOWN\", \"UNLICENSED\")\n",
        ")\n",
        "\n",
        "## Drivers charged for Speeding\n",
        "Charges8 = Charges.filter(lower(col(\"CHARGE\")).like(\"%speed%\"))\n",
        "Charges8 = Charges8.dropDuplicates([\"CRASH_ID\", \"UNIT_NBR\"])\n",
        "\n",
        "\n",
        "# top 10 Vehicle colours\n",
        "Units8 = Units.dropDuplicates([\"CRASH_ID\", \"UNIT_NBR\"])\n",
        "Units8 = Units8.groupBy(\"VEH_COLOR_ID\").count().filter(~col(\"VEH_COLOR_ID\").isin(\"NA\"))\n",
        "Analysis_8_2 = Units8.withColumn(\n",
        "    \"Filter\", row_number().over(Window.orderBy(col(\"count\").desc()))\n",
        ")\n",
        "Analysis_8_2 = Analysis_8_2.filter(col(\"Filter\") <= 10)\n",
        "\n",
        "# top 25 cities\n",
        "Charges8_1 = Charges.dropDuplicates([\"CRASH_ID\", \"UNIT_NBR\"])\n",
        "Analysis_8_1 = Charges8_1.join(\n",
        "    PrimaryPerson,\n",
        "    (PrimaryPerson.CRASH_ID == Charges8_1.CRASH_ID)\n",
        "    & (PrimaryPerson.UNIT_NBR == Charges8_1.UNIT_NBR),\n",
        "    \"inner\",\n",
        ")\n",
        "\n",
        "Analysis_8_1 = (\n",
        "    Analysis_8_1.groupBy(\"DRVR_LIC_STATE_ID\")\n",
        "    .count()\n",
        "    .filter(~col(\"DRVR_LIC_STATE_ID\").isin(\"NA\", \"Unknown\"))\n",
        ")\n",
        "\n",
        "Analysis_8_1 = Analysis_8_1.withColumn(\n",
        "    \"Filter\", row_number().over(Window.orderBy(col(\"count\").desc()))\n",
        ")\n",
        "Analysis_8_1 = Analysis_8_1.filter(col(\"Filter\") <= 25)\n",
        "Units8 = Units.dropDuplicates([\"CRASH_ID\", \"UNIT_NBR\"])\n",
        "\n",
        "Analysis8 = (\n",
        "    Units8.join(\n",
        "        PrimaryPerson8,\n",
        "        (Units8.CRASH_ID == PrimaryPerson8.CRASH_ID)\n",
        "        & (Units8.UNIT_NBR == PrimaryPerson8.UNIT_NBR),\n",
        "        \"inner\",\n",
        "    )\n",
        "    .join(\n",
        "        Charges8,\n",
        "        (Units8.CRASH_ID == Charges8.CRASH_ID) & (Units8.UNIT_NBR == Charges8.UNIT_NBR),\n",
        "        \"inner\",\n",
        "    )\n",
        "    .join(Analysis_8_2, Analysis_8_2.VEH_COLOR_ID == Units8.VEH_COLOR_ID, \"inner\")\n",
        "    .filter(col(\"VEH_LIC_STATE_ID\").isin(top25cities))\n",
        ")\n",
        "\n",
        "Analysis8 = Analysis8.groupBy(\"VEH_MAKE_ID\").agg(count(lit(1)).alias(\"Count\"))\n",
        "Analysis8 = Analysis8.withColumn(\n",
        "    \"Filter\", row_number().over(Window.orderBy(col(\"Count\").desc()))\n",
        ")\n",
        "Analysis8 = Analysis8.filter(col(\"Filter\") <= 5).select(\"VEH_MAKE_ID\").distinct()\n",
        "Analysis8.show()\n"
      ],
      "execution_count": 44,
      "outputs": [
        {
          "output_type": "stream",
          "name": "stdout",
          "text": [
            "+-----------+\n",
            "|VEH_MAKE_ID|\n",
            "+-----------+\n",
            "|       FORD|\n",
            "|  CHEVROLET|\n",
            "|     TOYOTA|\n",
            "|      DODGE|\n",
            "|      HONDA|\n",
            "+-----------+\n",
            "\n"
          ]
        }
      ]
    }
  ]
}